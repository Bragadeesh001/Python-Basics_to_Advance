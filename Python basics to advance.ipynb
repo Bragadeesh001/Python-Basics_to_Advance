{
 "cells": [
  {
   "cell_type": "markdown",
   "id": "702c38af",
   "metadata": {},
   "source": [
    "# REQUIRED PYTHON BASICS TO ADVANCE FOR DS"
   ]
  },
  {
   "cell_type": "markdown",
   "id": "06046a73",
   "metadata": {},
   "source": [
    "## Basic operations"
   ]
  },
  {
   "cell_type": "code",
   "execution_count": null,
   "id": "fb31567b",
   "metadata": {},
   "outputs": [],
   "source": [
    "# for private is '__variable_name' \n",
    "# for public is dfault\n",
    "# for protected is '_variable_name'"
   ]
  },
  {
   "cell_type": "code",
   "execution_count": 3,
   "id": "b6ca5d6b",
   "metadata": {},
   "outputs": [
    {
     "data": {
      "text/plain": [
       "8"
      ]
     },
     "execution_count": 3,
     "metadata": {},
     "output_type": "execute_result"
    }
   ],
   "source": [
    "3+5"
   ]
  },
  {
   "cell_type": "code",
   "execution_count": 2,
   "id": "2b3f5b7f",
   "metadata": {},
   "outputs": [
    {
     "data": {
      "text/plain": [
       "15"
      ]
     },
     "execution_count": 2,
     "metadata": {},
     "output_type": "execute_result"
    }
   ],
   "source": [
    "5*3"
   ]
  },
  {
   "cell_type": "code",
   "execution_count": 4,
   "id": "d56f24df",
   "metadata": {},
   "outputs": [
    {
     "data": {
      "text/plain": [
       "4.0"
      ]
     },
     "execution_count": 4,
     "metadata": {},
     "output_type": "execute_result"
    }
   ],
   "source": [
    "8/2"
   ]
  },
  {
   "cell_type": "code",
   "execution_count": 7,
   "id": "18011c6d",
   "metadata": {},
   "outputs": [
    {
     "data": {
      "text/plain": [
       "'strstrstrstrstrstrstrstrstrstr'"
      ]
     },
     "execution_count": 7,
     "metadata": {},
     "output_type": "execute_result"
    }
   ],
   "source": [
    "10*\"str\""
   ]
  },
  {
   "cell_type": "code",
   "execution_count": 8,
   "id": "747a6952",
   "metadata": {},
   "outputs": [
    {
     "data": {
      "text/plain": [
       "4"
      ]
     },
     "execution_count": 8,
     "metadata": {},
     "output_type": "execute_result"
    }
   ],
   "source": [
    "8//2"
   ]
  },
  {
   "cell_type": "code",
   "execution_count": 9,
   "id": "8ec0bcd2",
   "metadata": {},
   "outputs": [
    {
     "data": {
      "text/plain": [
       "0"
      ]
     },
     "execution_count": 9,
     "metadata": {},
     "output_type": "execute_result"
    }
   ],
   "source": [
    "8%2"
   ]
  },
  {
   "cell_type": "code",
   "execution_count": 11,
   "id": "c7ef5350",
   "metadata": {},
   "outputs": [
    {
     "data": {
      "text/plain": [
       "32"
      ]
     },
     "execution_count": 11,
     "metadata": {},
     "output_type": "execute_result"
    }
   ],
   "source": [
    "2**5"
   ]
  },
  {
   "cell_type": "code",
   "execution_count": 12,
   "id": "44809599",
   "metadata": {},
   "outputs": [
    {
     "data": {
      "text/plain": [
       "int"
      ]
     },
     "execution_count": 12,
     "metadata": {},
     "output_type": "execute_result"
    }
   ],
   "source": [
    "type(1)"
   ]
  },
  {
   "cell_type": "code",
   "execution_count": 13,
   "id": "299d709c",
   "metadata": {},
   "outputs": [
    {
     "data": {
      "text/plain": [
       "str"
      ]
     },
     "execution_count": 13,
     "metadata": {},
     "output_type": "execute_result"
    }
   ],
   "source": [
    "type(\"str\")"
   ]
  },
  {
   "cell_type": "code",
   "execution_count": 14,
   "id": "a29da68a",
   "metadata": {},
   "outputs": [
    {
     "data": {
      "text/plain": [
       "bool"
      ]
     },
     "execution_count": 14,
     "metadata": {},
     "output_type": "execute_result"
    }
   ],
   "source": [
    "type(False)"
   ]
  },
  {
   "cell_type": "markdown",
   "id": "e066e43e",
   "metadata": {},
   "source": [
    "## variable assignment"
   ]
  },
  {
   "cell_type": "code",
   "execution_count": 15,
   "id": "07908d54",
   "metadata": {},
   "outputs": [
    {
     "name": "stdout",
     "output_type": "stream",
     "text": [
      "10\n"
     ]
    }
   ],
   "source": [
    "a=10\n",
    "print(a)"
   ]
  },
  {
   "cell_type": "code",
   "execution_count": 16,
   "id": "d998d828",
   "metadata": {},
   "outputs": [
    {
     "ename": "SyntaxError",
     "evalue": "invalid syntax (3819734289.py, line 1)",
     "output_type": "error",
     "traceback": [
      "\u001b[1;36m  Input \u001b[1;32mIn [16]\u001b[1;36m\u001b[0m\n\u001b[1;33m    int a=10\u001b[0m\n\u001b[1;37m        ^\u001b[0m\n\u001b[1;31mSyntaxError\u001b[0m\u001b[1;31m:\u001b[0m invalid syntax\n"
     ]
    }
   ],
   "source": [
    "int a=10\n",
    "print(a)"
   ]
  },
  {
   "cell_type": "code",
   "execution_count": 17,
   "id": "4a3aa6ef",
   "metadata": {},
   "outputs": [
    {
     "name": "stdout",
     "output_type": "stream",
     "text": [
      "str\n"
     ]
    }
   ],
   "source": [
    "b='str'\n",
    "print(b)"
   ]
  },
  {
   "cell_type": "code",
   "execution_count": 19,
   "id": "aa95161e",
   "metadata": {},
   "outputs": [
    {
     "name": "stdout",
     "output_type": "stream",
     "text": [
      "2.0\n",
      "15\n",
      "5\n",
      "50\n",
      "0\n"
     ]
    },
    {
     "data": {
      "text/plain": [
       "int"
      ]
     },
     "execution_count": 19,
     "metadata": {},
     "output_type": "execute_result"
    }
   ],
   "source": [
    "a=10\n",
    "b=5\n",
    "print(a/b)\n",
    "print(a+b)\n",
    "print(a-b)\n",
    "print(a*b)\n",
    "print(a%b)\n",
    "type(a)\n"
   ]
  },
  {
   "cell_type": "markdown",
   "id": "b8a45d59",
   "metadata": {},
   "source": [
    "## various ways of printing"
   ]
  },
  {
   "cell_type": "code",
   "execution_count": 20,
   "id": "b8f44d4a",
   "metadata": {},
   "outputs": [
    {
     "name": "stdout",
     "output_type": "stream",
     "text": [
      "Hello\n"
     ]
    }
   ],
   "source": [
    "print('Hello')"
   ]
  },
  {
   "cell_type": "code",
   "execution_count": 25,
   "id": "fdfe093e",
   "metadata": {},
   "outputs": [
    {
     "name": "stdout",
     "output_type": "stream",
     "text": [
      "My name is brgadeesh, i love Data Science\n"
     ]
    }
   ],
   "source": [
    "#using placeholder\n",
    "\n",
    "print('My name is {}, i love {}'.format('brgadeesh','Data Science'))"
   ]
  },
  {
   "cell_type": "code",
   "execution_count": 26,
   "id": "057fb3e5",
   "metadata": {},
   "outputs": [
    {
     "name": "stdout",
     "output_type": "stream",
     "text": [
      "My name is Bragadees, i love Data Science\n"
     ]
    }
   ],
   "source": [
    "print(\"My name is {first}, i love {second}\".format(first='Bragadees',second='Data Science'))"
   ]
  },
  {
   "cell_type": "code",
   "execution_count": 27,
   "id": "04ca7ce6",
   "metadata": {},
   "outputs": [
    {
     "data": {
      "text/plain": [
       "5"
      ]
     },
     "execution_count": 27,
     "metadata": {},
     "output_type": "execute_result"
    }
   ],
   "source": [
    "len('braga')"
   ]
  },
  {
   "cell_type": "markdown",
   "id": "2e65e296",
   "metadata": {},
   "source": [
    "# python data structures and boolean"
   ]
  },
  {
   "cell_type": "markdown",
   "id": "1569807b",
   "metadata": {},
   "source": [
    "## boolean"
   ]
  },
  {
   "cell_type": "code",
   "execution_count": 28,
   "id": "1092f277",
   "metadata": {},
   "outputs": [
    {
     "data": {
      "text/plain": [
       "False"
      ]
     },
     "execution_count": 28,
     "metadata": {},
     "output_type": "execute_result"
    }
   ],
   "source": [
    "bool()"
   ]
  },
  {
   "cell_type": "code",
   "execution_count": 29,
   "id": "ae7ead70",
   "metadata": {},
   "outputs": [
    {
     "data": {
      "text/plain": [
       "True"
      ]
     },
     "execution_count": 29,
     "metadata": {},
     "output_type": "execute_result"
    }
   ],
   "source": [
    "bool(True)"
   ]
  },
  {
   "cell_type": "code",
   "execution_count": 30,
   "id": "02a38eb3",
   "metadata": {},
   "outputs": [
    {
     "name": "stdout",
     "output_type": "stream",
     "text": [
      "bragadeesh\n"
     ]
    }
   ],
   "source": [
    "Name='bragadeesh'\n",
    "print(Name)"
   ]
  },
  {
   "cell_type": "code",
   "execution_count": 33,
   "id": "2a40b77e",
   "metadata": {},
   "outputs": [
    {
     "data": {
      "text/plain": [
       "2"
      ]
     },
     "execution_count": 33,
     "metadata": {},
     "output_type": "execute_result"
    }
   ],
   "source": [
    "Name.count('a')"
   ]
  },
  {
   "cell_type": "code",
   "execution_count": 37,
   "id": "642b8ab2",
   "metadata": {},
   "outputs": [
    {
     "name": "stdout",
     "output_type": "stream",
     "text": [
      "True\n",
      "True\n",
      "False\n",
      "True\n",
      "False\n",
      "False\n",
      "False\n",
      "True\n",
      "bragadeesh\n"
     ]
    }
   ],
   "source": [
    "#Boolean functions\n",
    "##use tab after Name. to see all inbuild functions\n",
    "\n",
    "print(Name.isalnum())\n",
    "print(Name.isalpha())\n",
    "print(Name.isdigit())\n",
    "print(Name.islower())\n",
    "print(Name.isupper())\n",
    "print(Name.isdigit())\n",
    "print(Name.endswith('s'))\n",
    "print(Name.startswith('b'))\n",
    "print(Name.strip())"
   ]
  },
  {
   "cell_type": "markdown",
   "id": "dce6afea",
   "metadata": {},
   "source": [
    "## boolean and logical operator"
   ]
  },
  {
   "cell_type": "code",
   "execution_count": 38,
   "id": "cafee827",
   "metadata": {},
   "outputs": [
    {
     "data": {
      "text/plain": [
       "True"
      ]
     },
     "execution_count": 38,
     "metadata": {},
     "output_type": "execute_result"
    }
   ],
   "source": [
    "True and True"
   ]
  },
  {
   "cell_type": "code",
   "execution_count": 39,
   "id": "2065b9f0",
   "metadata": {},
   "outputs": [
    {
     "data": {
      "text/plain": [
       "False"
      ]
     },
     "execution_count": 39,
     "metadata": {},
     "output_type": "execute_result"
    }
   ],
   "source": [
    "True and False"
   ]
  },
  {
   "cell_type": "code",
   "execution_count": 40,
   "id": "a034aaa5",
   "metadata": {},
   "outputs": [
    {
     "data": {
      "text/plain": [
       "True"
      ]
     },
     "execution_count": 40,
     "metadata": {},
     "output_type": "execute_result"
    }
   ],
   "source": [
    "True or True"
   ]
  },
  {
   "cell_type": "code",
   "execution_count": 41,
   "id": "67fc5ff7",
   "metadata": {},
   "outputs": [
    {
     "data": {
      "text/plain": [
       "True"
      ]
     },
     "execution_count": 41,
     "metadata": {},
     "output_type": "execute_result"
    }
   ],
   "source": [
    "True or False"
   ]
  },
  {
   "cell_type": "code",
   "execution_count": 42,
   "id": "f9a19673",
   "metadata": {},
   "outputs": [
    {
     "data": {
      "text/plain": [
       "False"
      ]
     },
     "execution_count": 42,
     "metadata": {},
     "output_type": "execute_result"
    }
   ],
   "source": [
    "False or False"
   ]
  },
  {
   "cell_type": "code",
   "execution_count": 44,
   "id": "3505d577",
   "metadata": {},
   "outputs": [
    {
     "data": {
      "text/plain": [
       "False"
      ]
     },
     "execution_count": 44,
     "metadata": {},
     "output_type": "execute_result"
    }
   ],
   "source": [
    "Name.isalpha() and Name.isnumeric()"
   ]
  },
  {
   "cell_type": "markdown",
   "id": "ebb7ad58",
   "metadata": {},
   "source": [
    "## list\n",
    "a list is a data structure in python that is a mutable or changeable , ordered sequence of element. Each elements or value inside the list is called items. list are defined by having values between []"
   ]
  },
  {
   "cell_type": "code",
   "execution_count": 45,
   "id": "7645cc79",
   "metadata": {},
   "outputs": [
    {
     "data": {
      "text/plain": [
       "list"
      ]
     },
     "execution_count": 45,
     "metadata": {},
     "output_type": "execute_result"
    }
   ],
   "source": [
    "type([])"
   ]
  },
  {
   "cell_type": "code",
   "execution_count": 46,
   "id": "7db8f932",
   "metadata": {},
   "outputs": [
    {
     "data": {
      "text/plain": [
       "list"
      ]
     },
     "execution_count": 46,
     "metadata": {},
     "output_type": "execute_result"
    }
   ],
   "source": [
    "list1=[]\n",
    "type(list1)"
   ]
  },
  {
   "cell_type": "code",
   "execution_count": 47,
   "id": "50f83202",
   "metadata": {},
   "outputs": [
    {
     "data": {
      "text/plain": [
       "list"
      ]
     },
     "execution_count": 47,
     "metadata": {},
     "output_type": "execute_result"
    }
   ],
   "source": [
    "list2=list()\n",
    "type(list2)"
   ]
  },
  {
   "cell_type": "code",
   "execution_count": 49,
   "id": "f051f43c",
   "metadata": {},
   "outputs": [
    {
     "name": "stdout",
     "output_type": "stream",
     "text": [
      "<class 'list'>\n",
      "[2, 4, 5, 'brag', 'deesh']\n"
     ]
    }
   ],
   "source": [
    "list3=[2,4,5,'brag','deesh']\n",
    "print(type(list3))\n",
    "print(list3)"
   ]
  },
  {
   "cell_type": "markdown",
   "id": "1a8366be",
   "metadata": {},
   "source": [
    "### append"
   ]
  },
  {
   "cell_type": "code",
   "execution_count": 50,
   "id": "f4efd605",
   "metadata": {},
   "outputs": [
    {
     "name": "stdout",
     "output_type": "stream",
     "text": [
      "['bragadees']\n"
     ]
    }
   ],
   "source": [
    "#append is used to add elements in the list\n",
    "\n",
    "list1.append('bragadees')\n",
    "print(list1)"
   ]
  },
  {
   "cell_type": "code",
   "execution_count": 51,
   "id": "a8055839",
   "metadata": {},
   "outputs": [
    {
     "name": "stdout",
     "output_type": "stream",
     "text": [
      "['bragadees', 5]\n"
     ]
    }
   ],
   "source": [
    "list1.append(5)\n",
    "print(list1)"
   ]
  },
  {
   "cell_type": "code",
   "execution_count": 53,
   "id": "136b0306",
   "metadata": {},
   "outputs": [
    {
     "name": "stdout",
     "output_type": "stream",
     "text": [
      "[2, 4, 5, 'brag', 'deesh']\n"
     ]
    },
    {
     "data": {
      "text/plain": [
       "'brag'"
      ]
     },
     "execution_count": 53,
     "metadata": {},
     "output_type": "execute_result"
    }
   ],
   "source": [
    "#indexing in list\n",
    "\n",
    "print(list3)\n",
    "list3[3]"
   ]
  },
  {
   "cell_type": "code",
   "execution_count": 58,
   "id": "878bc364",
   "metadata": {},
   "outputs": [
    {
     "data": {
      "text/plain": [
       "[2, 4, 5, 'brag']"
      ]
     },
     "execution_count": 58,
     "metadata": {},
     "output_type": "execute_result"
    }
   ],
   "source": [
    "list3[:-1]"
   ]
  },
  {
   "cell_type": "code",
   "execution_count": 59,
   "id": "5f571444",
   "metadata": {},
   "outputs": [
    {
     "data": {
      "text/plain": [
       "[2, 4, 5, 'brag', 'deesh']"
      ]
     },
     "execution_count": 59,
     "metadata": {},
     "output_type": "execute_result"
    }
   ],
   "source": [
    "list3[::]"
   ]
  },
  {
   "cell_type": "code",
   "execution_count": 60,
   "id": "f24d2be5",
   "metadata": {},
   "outputs": [
    {
     "data": {
      "text/plain": [
       "[4, 5, 'brag', 'deesh']"
      ]
     },
     "execution_count": 60,
     "metadata": {},
     "output_type": "execute_result"
    }
   ],
   "source": [
    "list3[1::]"
   ]
  },
  {
   "cell_type": "code",
   "execution_count": 62,
   "id": "b8338d72",
   "metadata": {},
   "outputs": [
    {
     "name": "stdout",
     "output_type": "stream",
     "text": [
      "['bragadees', 5, [2, 4, 5, 'brag', 'deesh'], [2, 4, 5, 'brag', 'deesh']]\n"
     ]
    }
   ],
   "source": [
    "#we can add list inside a list\n",
    "\n",
    "list1.append(list3)\n",
    "print(list1)"
   ]
  },
  {
   "cell_type": "markdown",
   "id": "57728472",
   "metadata": {},
   "source": [
    "### insert\n"
   ]
  },
  {
   "cell_type": "code",
   "execution_count": 63,
   "id": "381c2a91",
   "metadata": {},
   "outputs": [
    {
     "name": "stdout",
     "output_type": "stream",
     "text": [
      "[2, 4, 5, 'brag', 'deesh']\n"
     ]
    }
   ],
   "source": [
    "#insert in a specific order\n",
    "\n",
    "print(list3)"
   ]
  },
  {
   "cell_type": "code",
   "execution_count": 64,
   "id": "3c32320a",
   "metadata": {},
   "outputs": [],
   "source": [
    "list3.insert(-1,'Amutha')"
   ]
  },
  {
   "cell_type": "code",
   "execution_count": 65,
   "id": "f5bccbbe",
   "metadata": {},
   "outputs": [
    {
     "name": "stdout",
     "output_type": "stream",
     "text": [
      "[2, 4, 5, 'brag', 'Amutha', 'deesh']\n"
     ]
    }
   ],
   "source": [
    "print(list3)"
   ]
  },
  {
   "cell_type": "code",
   "execution_count": 67,
   "id": "29cc4d33",
   "metadata": {},
   "outputs": [],
   "source": [
    "list3.insert(1,'Sreekumar')"
   ]
  },
  {
   "cell_type": "code",
   "execution_count": 68,
   "id": "d8477cf4",
   "metadata": {},
   "outputs": [
    {
     "name": "stdout",
     "output_type": "stream",
     "text": [
      "[2, 'Sreekumar', 4, 5, 'brag', 'Amutha', 'deesh']\n"
     ]
    }
   ],
   "source": [
    "print(list3)"
   ]
  },
  {
   "cell_type": "markdown",
   "id": "add772aa",
   "metadata": {},
   "source": [
    "### extend"
   ]
  },
  {
   "cell_type": "code",
   "execution_count": 69,
   "id": "c2647683",
   "metadata": {},
   "outputs": [
    {
     "name": "stdout",
     "output_type": "stream",
     "text": [
      "[2, 'Sreekumar', 4, 5, 'brag', 'Amutha', 'deesh']\n"
     ]
    }
   ],
   "source": [
    "print(list3)"
   ]
  },
  {
   "cell_type": "code",
   "execution_count": 70,
   "id": "11c9a076",
   "metadata": {},
   "outputs": [],
   "source": [
    "list3.extend([9,0])"
   ]
  },
  {
   "cell_type": "code",
   "execution_count": 71,
   "id": "e9d63a69",
   "metadata": {},
   "outputs": [
    {
     "name": "stdout",
     "output_type": "stream",
     "text": [
      "[2, 'Sreekumar', 4, 5, 'brag', 'Amutha', 'deesh', 9, 0]\n"
     ]
    }
   ],
   "source": [
    "print(list3)"
   ]
  },
  {
   "cell_type": "markdown",
   "id": "8724d3f0",
   "metadata": {},
   "source": [
    "### Various operations that we can perform in list"
   ]
  },
  {
   "cell_type": "code",
   "execution_count": 72,
   "id": "10801bf4",
   "metadata": {},
   "outputs": [],
   "source": [
    "list4=[1,2,3,4,5]\n"
   ]
  },
  {
   "cell_type": "code",
   "execution_count": 73,
   "id": "da0a448d",
   "metadata": {},
   "outputs": [
    {
     "data": {
      "text/plain": [
       "15"
      ]
     },
     "execution_count": 73,
     "metadata": {},
     "output_type": "execute_result"
    }
   ],
   "source": [
    "sum(list4)"
   ]
  },
  {
   "cell_type": "code",
   "execution_count": 75,
   "id": "bf395b35",
   "metadata": {},
   "outputs": [
    {
     "data": {
      "text/plain": [
       "1"
      ]
     },
     "execution_count": 75,
     "metadata": {},
     "output_type": "execute_result"
    }
   ],
   "source": [
    "list4.count(3)"
   ]
  },
  {
   "cell_type": "code",
   "execution_count": 76,
   "id": "d80f5706",
   "metadata": {},
   "outputs": [],
   "source": [
    "list4.extend([4,4,7,8])"
   ]
  },
  {
   "cell_type": "code",
   "execution_count": 77,
   "id": "7582472a",
   "metadata": {},
   "outputs": [
    {
     "name": "stdout",
     "output_type": "stream",
     "text": [
      "[1, 2, 3, 4, 5, 4, 4, 7, 8]\n"
     ]
    }
   ],
   "source": [
    "print(list4)"
   ]
  },
  {
   "cell_type": "code",
   "execution_count": 78,
   "id": "53c53c21",
   "metadata": {},
   "outputs": [
    {
     "data": {
      "text/plain": [
       "3"
      ]
     },
     "execution_count": 78,
     "metadata": {},
     "output_type": "execute_result"
    }
   ],
   "source": [
    "list4.count(4)"
   ]
  },
  {
   "cell_type": "code",
   "execution_count": 79,
   "id": "c537fc87",
   "metadata": {},
   "outputs": [
    {
     "data": {
      "text/plain": [
       "3"
      ]
     },
     "execution_count": 79,
     "metadata": {},
     "output_type": "execute_result"
    }
   ],
   "source": [
    "list4.index(4)"
   ]
  },
  {
   "cell_type": "code",
   "execution_count": 81,
   "id": "874bbdc4",
   "metadata": {},
   "outputs": [
    {
     "name": "stdout",
     "output_type": "stream",
     "text": [
      "[1, 2, 3, 4, 4, 4, 7, 8]\n"
     ]
    }
   ],
   "source": [
    "list4.pop(4)\n",
    "print(list4)"
   ]
  },
  {
   "cell_type": "code",
   "execution_count": 83,
   "id": "21549928",
   "metadata": {},
   "outputs": [
    {
     "name": "stdout",
     "output_type": "stream",
     "text": [
      "[1, 2, 3, 4, 4, 4, 7]\n"
     ]
    }
   ],
   "source": [
    "list4.remove(8)\n",
    "print(list4)"
   ]
  },
  {
   "cell_type": "code",
   "execution_count": 84,
   "id": "dfb20e35",
   "metadata": {},
   "outputs": [
    {
     "data": {
      "text/plain": [
       "7"
      ]
     },
     "execution_count": 84,
     "metadata": {},
     "output_type": "execute_result"
    }
   ],
   "source": [
    "max(list4)"
   ]
  },
  {
   "cell_type": "code",
   "execution_count": 85,
   "id": "5b6ecc1e",
   "metadata": {},
   "outputs": [
    {
     "data": {
      "text/plain": [
       "1"
      ]
     },
     "execution_count": 85,
     "metadata": {},
     "output_type": "execute_result"
    }
   ],
   "source": [
    "min(list4)"
   ]
  },
  {
   "cell_type": "code",
   "execution_count": 86,
   "id": "4852c5ff",
   "metadata": {},
   "outputs": [
    {
     "data": {
      "text/plain": [
       "[1, 2, 3, 4, 4, 4, 7, 1, 2, 3, 4, 4, 4, 7]"
      ]
     },
     "execution_count": 86,
     "metadata": {},
     "output_type": "execute_result"
    }
   ],
   "source": [
    "list4*2"
   ]
  },
  {
   "cell_type": "markdown",
   "id": "cdb3ae5b",
   "metadata": {},
   "source": [
    "## sets\n",
    " a set is an unordered collection data type that is iterable, mutable and has no duplicate elements. pythons set class represents the mathematical notion of a set. this is based on a data structure known as a hash table"
   ]
  },
  {
   "cell_type": "code",
   "execution_count": 87,
   "id": "10e7fe26",
   "metadata": {},
   "outputs": [
    {
     "data": {
      "text/plain": [
       "set"
      ]
     },
     "execution_count": 87,
     "metadata": {},
     "output_type": "execute_result"
    }
   ],
   "source": [
    "# degining a empy set\n",
    "\n",
    "set1=set()\n",
    "type(set1)"
   ]
  },
  {
   "cell_type": "code",
   "execution_count": 88,
   "id": "89d07fef",
   "metadata": {},
   "outputs": [
    {
     "name": "stdout",
     "output_type": "stream",
     "text": [
      "{1, 2, 3, 4, 5}\n"
     ]
    }
   ],
   "source": [
    "set2={1,2,3,4,5}\n",
    "print(set2)"
   ]
  },
  {
   "cell_type": "code",
   "execution_count": 89,
   "id": "65bb8e68",
   "metadata": {},
   "outputs": [
    {
     "name": "stdout",
     "output_type": "stream",
     "text": [
      "{1, 2, 3, 4, 5}\n"
     ]
    }
   ],
   "source": [
    "set3={1,2,3,4,5,2}\n",
    "print(set3)"
   ]
  },
  {
   "cell_type": "code",
   "execution_count": 90,
   "id": "ebc09984",
   "metadata": {},
   "outputs": [
    {
     "name": "stdout",
     "output_type": "stream",
     "text": [
      "{1, 2, 3, 'deesh', 'brag'}\n"
     ]
    }
   ],
   "source": [
    "set4={1,2,3,'brag','deesh'}\n",
    "print(set4)"
   ]
  },
  {
   "cell_type": "code",
   "execution_count": 91,
   "id": "71185ac3",
   "metadata": {},
   "outputs": [],
   "source": [
    "# inbuilt function"
   ]
  },
  {
   "cell_type": "code",
   "execution_count": 92,
   "id": "0926a327",
   "metadata": {},
   "outputs": [
    {
     "name": "stdout",
     "output_type": "stream",
     "text": [
      "{1, 2, 3, 'Amutha', 'deesh', 'brag'}\n"
     ]
    }
   ],
   "source": [
    "set4.add('Amutha')\n",
    "print(set4)"
   ]
  },
  {
   "cell_type": "code",
   "execution_count": 94,
   "id": "1437a39f",
   "metadata": {},
   "outputs": [
    {
     "name": "stdout",
     "output_type": "stream",
     "text": [
      "{1, 2, 3, 4, 5}\n",
      "{1, 2, 3, 'Amutha', 'deesh', 'brag'}\n"
     ]
    }
   ],
   "source": [
    "print(set2)\n",
    "print(set4)"
   ]
  },
  {
   "cell_type": "code",
   "execution_count": 95,
   "id": "3d2468aa",
   "metadata": {},
   "outputs": [
    {
     "data": {
      "text/plain": [
       "{4, 5}"
      ]
     },
     "execution_count": 95,
     "metadata": {},
     "output_type": "execute_result"
    }
   ],
   "source": [
    "#difference\n",
    "\n",
    "set2.difference(set4)"
   ]
  },
  {
   "cell_type": "code",
   "execution_count": 96,
   "id": "afa259ad",
   "metadata": {},
   "outputs": [
    {
     "data": {
      "text/plain": [
       "{'Amutha', 'brag', 'deesh'}"
      ]
     },
     "execution_count": 96,
     "metadata": {},
     "output_type": "execute_result"
    }
   ],
   "source": [
    "set4.difference(set2)"
   ]
  },
  {
   "cell_type": "code",
   "execution_count": 100,
   "id": "f5404d78",
   "metadata": {},
   "outputs": [
    {
     "name": "stdout",
     "output_type": "stream",
     "text": [
      "{1, 2, 3, 4, 5}\n",
      "{4, 5}\n"
     ]
    }
   ],
   "source": [
    "# difference update\n",
    "\n",
    "print(set3)\n",
    "set3.difference_update(set4)\n",
    "print(set3)"
   ]
  },
  {
   "cell_type": "code",
   "execution_count": 101,
   "id": "a314b02c",
   "metadata": {},
   "outputs": [
    {
     "data": {
      "text/plain": [
       "{4, 5}"
      ]
     },
     "execution_count": 101,
     "metadata": {},
     "output_type": "execute_result"
    }
   ],
   "source": [
    "#intersection it shows the common items\n",
    "\n",
    "set2.intersection(set3)"
   ]
  },
  {
   "cell_type": "markdown",
   "id": "6f5ef07c",
   "metadata": {},
   "source": [
    "## dictionaries\n",
    "a dictionary is a collection which is unordered, changeable and indexed. In python dictionaries are written with curly brackets, and they have keys and values."
   ]
  },
  {
   "cell_type": "code",
   "execution_count": 102,
   "id": "a273ae5a",
   "metadata": {},
   "outputs": [
    {
     "data": {
      "text/plain": [
       "dict"
      ]
     },
     "execution_count": 102,
     "metadata": {},
     "output_type": "execute_result"
    }
   ],
   "source": [
    "dic={}\n",
    "type(dic)"
   ]
  },
  {
   "cell_type": "code",
   "execution_count": 104,
   "id": "4dcf978b",
   "metadata": {},
   "outputs": [
    {
     "name": "stdout",
     "output_type": "stream",
     "text": [
      "<class 'set'>\n",
      "<class 'dict'>\n"
     ]
    }
   ],
   "source": [
    "set6={1,2,3,4,5}\n",
    "dict1={1:'braga',2:'deesh'}\n",
    "print(type(set6))\n",
    "print(type(dict1))"
   ]
  },
  {
   "cell_type": "code",
   "execution_count": 105,
   "id": "82a41018",
   "metadata": {},
   "outputs": [
    {
     "data": {
      "text/plain": [
       "'deesh'"
      ]
     },
     "execution_count": 105,
     "metadata": {},
     "output_type": "execute_result"
    }
   ],
   "source": [
    "dict1[2]"
   ]
  },
  {
   "cell_type": "code",
   "execution_count": 107,
   "id": "fd8b7d25",
   "metadata": {},
   "outputs": [
    {
     "name": "stdout",
     "output_type": "stream",
     "text": [
      "1\n",
      "2\n"
     ]
    }
   ],
   "source": [
    "for x in dict1:\n",
    "    print(x)"
   ]
  },
  {
   "cell_type": "code",
   "execution_count": 108,
   "id": "2c9a91ec",
   "metadata": {},
   "outputs": [
    {
     "name": "stdout",
     "output_type": "stream",
     "text": [
      "braga\n",
      "deesh\n"
     ]
    }
   ],
   "source": [
    "# we can loop through th dictonaries values\n",
    "\n",
    "for x in dict1.values():\n",
    "    print(x)"
   ]
  },
  {
   "cell_type": "code",
   "execution_count": 109,
   "id": "e5a79c6f",
   "metadata": {},
   "outputs": [
    {
     "name": "stdout",
     "output_type": "stream",
     "text": [
      "(1, 'braga')\n",
      "(2, 'deesh')\n"
     ]
    }
   ],
   "source": [
    "# we can loop through the items\n",
    "\n",
    "for x in dict1.items():\n",
    "    print(x)"
   ]
  },
  {
   "cell_type": "code",
   "execution_count": 117,
   "id": "6801b40c",
   "metadata": {},
   "outputs": [
    {
     "name": "stdout",
     "output_type": "stream",
     "text": [
      "braga\n",
      "deesh\n"
     ]
    }
   ],
   "source": [
    "#we can loop separtely the keys and values\n",
    "\n",
    "for x,y in dict1.items():\n",
    "    #print(x,y)\n",
    "    #print(x)\n",
    "    print(y)"
   ]
  },
  {
   "cell_type": "code",
   "execution_count": 120,
   "id": "bd3b3128",
   "metadata": {},
   "outputs": [],
   "source": [
    "#adding items in dictionaries\n",
    "\n",
    "dict1[3]='amutha'"
   ]
  },
  {
   "cell_type": "code",
   "execution_count": 121,
   "id": "cf82434d",
   "metadata": {},
   "outputs": [
    {
     "name": "stdout",
     "output_type": "stream",
     "text": [
      "{1: 'braga', 2: 'deesh', 3: 'amutha'}\n"
     ]
    }
   ],
   "source": [
    "print(dict1)"
   ]
  },
  {
   "cell_type": "code",
   "execution_count": 122,
   "id": "29d0b8a1",
   "metadata": {},
   "outputs": [
    {
     "name": "stdout",
     "output_type": "stream",
     "text": [
      "{'model1': {'swift': 1900}, 'model2': {'benz': 1910}, 'model3': {'bmw': 2000}}\n"
     ]
    }
   ],
   "source": [
    "#nested dictionary\n",
    "\n",
    "carmodel1={'swift':1900}\n",
    "carmodel2={'benz':1910}\n",
    "carmodel3={'bmw':2000}\n",
    "\n",
    "allmodel={'model1':carmodel1,'model2':carmodel2,'model3':carmodel3}\n",
    "\n",
    "print(allmodel)"
   ]
  },
  {
   "cell_type": "code",
   "execution_count": 129,
   "id": "fadeae0e",
   "metadata": {},
   "outputs": [
    {
     "data": {
      "text/plain": [
       "1900"
      ]
     },
     "execution_count": 129,
     "metadata": {},
     "output_type": "execute_result"
    }
   ],
   "source": [
    "#accessing the item in nested dictionary\n",
    "\n",
    "allmodel['model1']['swift']"
   ]
  },
  {
   "cell_type": "markdown",
   "id": "16818873",
   "metadata": {},
   "source": [
    "## tuple\n",
    "tuple is not mutable "
   ]
  },
  {
   "cell_type": "code",
   "execution_count": 130,
   "id": "061089da",
   "metadata": {},
   "outputs": [
    {
     "name": "stdout",
     "output_type": "stream",
     "text": [
      "<class 'tuple'>\n"
     ]
    }
   ],
   "source": [
    "tup=()\n",
    "print(type(tup))"
   ]
  },
  {
   "cell_type": "code",
   "execution_count": 131,
   "id": "4f9c423a",
   "metadata": {},
   "outputs": [
    {
     "name": "stdout",
     "output_type": "stream",
     "text": [
      "(1, 2, 3, 4)\n"
     ]
    }
   ],
   "source": [
    "tup1=(1,2,3,4)\n",
    "print(tup1)"
   ]
  },
  {
   "cell_type": "code",
   "execution_count": 137,
   "id": "4a796621",
   "metadata": {},
   "outputs": [
    {
     "data": {
      "text/plain": [
       "1"
      ]
     },
     "execution_count": 137,
     "metadata": {},
     "output_type": "execute_result"
    }
   ],
   "source": [
    "tup1.count(4)"
   ]
  },
  {
   "cell_type": "code",
   "execution_count": 138,
   "id": "b8f0d7ab",
   "metadata": {},
   "outputs": [
    {
     "data": {
      "text/plain": [
       "0"
      ]
     },
     "execution_count": 138,
     "metadata": {},
     "output_type": "execute_result"
    }
   ],
   "source": [
    "tup1.index(1)"
   ]
  },
  {
   "cell_type": "markdown",
   "id": "16b12f8c",
   "metadata": {},
   "source": [
    " # Functions in python\n",
    " 1. Functions makes work easy like reuse of code"
   ]
  },
  {
   "cell_type": "code",
   "execution_count": 140,
   "id": "57656131",
   "metadata": {},
   "outputs": [],
   "source": [
    "def odd_even(num):\n",
    "    if num%2==0:\n",
    "        print('The number {} is even'.format(num))\n",
    "    else:\n",
    "        print('The number {} is odd'.format(num))"
   ]
  },
  {
   "cell_type": "code",
   "execution_count": 141,
   "id": "ea3c3e90",
   "metadata": {},
   "outputs": [
    {
     "name": "stdout",
     "output_type": "stream",
     "text": [
      "The number 2 is even\n"
     ]
    }
   ],
   "source": [
    "odd_even(2)"
   ]
  },
  {
   "cell_type": "code",
   "execution_count": 142,
   "id": "2cc4222d",
   "metadata": {},
   "outputs": [
    {
     "data": {
      "text/plain": [
       "'Bragadeesh'"
      ]
     },
     "execution_count": 142,
     "metadata": {},
     "output_type": "execute_result"
    }
   ],
   "source": [
    "#return\n",
    "def hi():\n",
    "    return 'Bragadeesh'\n",
    "hi()"
   ]
  },
  {
   "cell_type": "code",
   "execution_count": 143,
   "id": "7ee6a07c",
   "metadata": {},
   "outputs": [
    {
     "data": {
      "text/plain": [
       "15"
      ]
     },
     "execution_count": 143,
     "metadata": {},
     "output_type": "execute_result"
    }
   ],
   "source": [
    "def add_number(x,y):\n",
    "    return x+y\n",
    "\n",
    "add_number(5,10)"
   ]
  },
  {
   "cell_type": "code",
   "execution_count": 145,
   "id": "39fa957d",
   "metadata": {},
   "outputs": [
    {
     "name": "stdout",
     "output_type": "stream",
     "text": [
      "My name is bragadeesh and my age is 29\n",
      "My name is bragadeesh and my age is 25\n"
     ]
    }
   ],
   "source": [
    "#Here first argument is positional argument\n",
    "#here second argument is keyword argument\n",
    "\n",
    "def name_age(name,age=29):\n",
    "    print('My name is {} and my age is {}'.format(name,age))\n",
    "    \n",
    "name_age('bragadeesh')\n",
    "name_age('bragadeesh',25)"
   ]
  },
  {
   "cell_type": "code",
   "execution_count": 149,
   "id": "a24547a9",
   "metadata": {},
   "outputs": [
    {
     "name": "stdout",
     "output_type": "stream",
     "text": [
      "('bragadeesh', 'male', 25, 1997)\n",
      "{}\n"
     ]
    }
   ],
   "source": [
    "# *args is a positional argument\n",
    "# **kwargs is a keyword argument\n",
    "\n",
    "def identity(*args,**kwargs):\n",
    "    print(args)\n",
    "    print(kwargs)\n",
    "    \n",
    "identity('bragadeesh','male',25,1997)"
   ]
  },
  {
   "cell_type": "code",
   "execution_count": 150,
   "id": "3f0cf018",
   "metadata": {},
   "outputs": [
    {
     "name": "stdout",
     "output_type": "stream",
     "text": [
      "()\n",
      "{'name': 'bragadeesh', 'gender': 'male', 'age': 25, 'year': 1997}\n"
     ]
    }
   ],
   "source": [
    "identity(name='bragadeesh',gender='male',age=25,year=1997)"
   ]
  },
  {
   "cell_type": "code",
   "execution_count": 151,
   "id": "69b3a58c",
   "metadata": {},
   "outputs": [
    {
     "name": "stdout",
     "output_type": "stream",
     "text": [
      "('bragadeesh', 'male')\n",
      "{'age': 25, 'year': 1997}\n"
     ]
    }
   ],
   "source": [
    "identity('bragadeesh','male',age=25,year=1997)"
   ]
  },
  {
   "cell_type": "code",
   "execution_count": 152,
   "id": "8655a93f",
   "metadata": {},
   "outputs": [
    {
     "name": "stdout",
     "output_type": "stream",
     "text": [
      "(['Bragadeesh', 'Male'], {'age': 25, 'year': 1997})\n",
      "{}\n"
     ]
    }
   ],
   "source": [
    "# we can also give arguments in list and dictonaries\n",
    "\n",
    "lis=['Bragadeesh','Male']\n",
    "dic={'age':25,'year':1997}\n",
    "identity(lis,dic)"
   ]
  },
  {
   "cell_type": "code",
   "execution_count": 153,
   "id": "9060aa35",
   "metadata": {},
   "outputs": [
    {
     "name": "stdout",
     "output_type": "stream",
     "text": [
      "('Bragadeesh', 'Male')\n",
      "{'age': 25, 'year': 1997}\n"
     ]
    }
   ],
   "source": [
    "#the above is comming wrong so we give give like this\n",
    "\n",
    "identity(*lis,**dic)"
   ]
  },
  {
   "cell_type": "code",
   "execution_count": 165,
   "id": "d8663946",
   "metadata": {},
   "outputs": [
    {
     "data": {
      "text/plain": [
       "(20, 16)"
      ]
     },
     "execution_count": 165,
     "metadata": {},
     "output_type": "execute_result"
    }
   ],
   "source": [
    "#function return two values\n",
    "\n",
    "def evenoddsum(lst):\n",
    "    even_sum=0\n",
    "    odd_sum=0\n",
    "    for i in lst:\n",
    "        if i%2==0:\n",
    "            even_sum=even_sum+i\n",
    "        else:\n",
    "            odd_sum=odd_sum+i\n",
    "\n",
    "    return even_sum,odd_sum\n",
    "\n",
    "lis=[1,2,3,4,5,6,7,8]\n",
    "evenoddsum(lis)"
   ]
  },
  {
   "cell_type": "markdown",
   "id": "39f5d14c",
   "metadata": {},
   "source": [
    "## Lambda function\n",
    "anonymous function.\n",
    "\n",
    "a function with no name.\n",
    "\n",
    "function should not contain two codes"
   ]
  },
  {
   "cell_type": "code",
   "execution_count": 166,
   "id": "d3bab8e9",
   "metadata": {},
   "outputs": [
    {
     "data": {
      "text/plain": [
       "15"
      ]
     },
     "execution_count": 166,
     "metadata": {},
     "output_type": "execute_result"
    }
   ],
   "source": [
    "def add(a,b):\n",
    "    return a+b\n",
    "\n",
    "add(5,10)"
   ]
  },
  {
   "cell_type": "code",
   "execution_count": 167,
   "id": "528a8f94",
   "metadata": {},
   "outputs": [
    {
     "data": {
      "text/plain": [
       "15"
      ]
     },
     "execution_count": 167,
     "metadata": {},
     "output_type": "execute_result"
    }
   ],
   "source": [
    "#insted above we can use lamda\n",
    "#here left of : is arguments and reight of : is function code\n",
    "\n",
    "addition=lambda a,b:a+b\n",
    "addition(12,3)\n"
   ]
  },
  {
   "cell_type": "code",
   "execution_count": 168,
   "id": "f4a1c183",
   "metadata": {},
   "outputs": [],
   "source": [
    "def even(num):\n",
    "    if num%2==0:\n",
    "        return True\n",
    "    else:\n",
    "        return False\n",
    "    "
   ]
  },
  {
   "cell_type": "code",
   "execution_count": 171,
   "id": "94ec307c",
   "metadata": {},
   "outputs": [
    {
     "data": {
      "text/plain": [
       "False"
      ]
     },
     "execution_count": 171,
     "metadata": {},
     "output_type": "execute_result"
    }
   ],
   "source": [
    "#for above we can write\n",
    "\n",
    "evennumber=lambda num:num%2==0\n",
    "\n",
    "evennumber(23)"
   ]
  },
  {
   "cell_type": "code",
   "execution_count": 172,
   "id": "3b735f50",
   "metadata": {},
   "outputs": [],
   "source": [
    "def addition(a,b,c):\n",
    "    return a+b+c"
   ]
  },
  {
   "cell_type": "code",
   "execution_count": 173,
   "id": "dba89706",
   "metadata": {},
   "outputs": [
    {
     "data": {
      "text/plain": [
       "17"
      ]
     },
     "execution_count": 173,
     "metadata": {},
     "output_type": "execute_result"
    }
   ],
   "source": [
    "#for above we can write\n",
    "\n",
    "addition=lambda a,b,c:a+b+c\n",
    "\n",
    "addition(5,3,9)"
   ]
  },
  {
   "cell_type": "markdown",
   "id": "4c041ee0",
   "metadata": {},
   "source": [
    "## Map function in python"
   ]
  },
  {
   "cell_type": "code",
   "execution_count": 179,
   "id": "364f55fa",
   "metadata": {},
   "outputs": [],
   "source": [
    "def even_or_odd(num):\n",
    "    if num%2==0:\n",
    "        return True\n",
    "    else:\n",
    "        return False"
   ]
  },
  {
   "cell_type": "code",
   "execution_count": 175,
   "id": "6e3d0cb5",
   "metadata": {},
   "outputs": [
    {
     "data": {
      "text/plain": [
       "False"
      ]
     },
     "execution_count": 175,
     "metadata": {},
     "output_type": "execute_result"
    }
   ],
   "source": [
    "even_or_odd(9)"
   ]
  },
  {
   "cell_type": "code",
   "execution_count": 176,
   "id": "f9b9ad5a",
   "metadata": {},
   "outputs": [
    {
     "data": {
      "text/plain": [
       "<map at 0x19661813c10>"
      ]
     },
     "execution_count": 176,
     "metadata": {},
     "output_type": "execute_result"
    }
   ],
   "source": [
    "lst=[2,4,6,8,4,35,9,11,5,8,3]\n",
    "\n",
    "#can i pass this list in above function without using loop\n",
    "#for this map is used\n",
    "\n",
    "map(even_or_odd,lst)"
   ]
  },
  {
   "cell_type": "code",
   "execution_count": 180,
   "id": "9a6e14b0",
   "metadata": {},
   "outputs": [
    {
     "data": {
      "text/plain": [
       "[True, True, True, True, True, False, False, False, False, True, False]"
      ]
     },
     "execution_count": 180,
     "metadata": {},
     "output_type": "execute_result"
    }
   ],
   "source": [
    "list(map(even_or_odd,lst))"
   ]
  },
  {
   "cell_type": "markdown",
   "id": "c621474b",
   "metadata": {},
   "source": [
    "## Filter function in python"
   ]
  },
  {
   "cell_type": "code",
   "execution_count": 181,
   "id": "2a44ea6a",
   "metadata": {},
   "outputs": [],
   "source": [
    "#instead of map can we use any other function in above problem\n",
    "#yes filter is used\n",
    "#filter function has many useful ways"
   ]
  },
  {
   "cell_type": "code",
   "execution_count": 201,
   "id": "ce9264ce",
   "metadata": {},
   "outputs": [],
   "source": [
    "def even(num):\n",
    "    if num%2==0:\n",
    "        return 'True'\n",
    "    else:\n",
    "        return 'False'\n",
    "    "
   ]
  },
  {
   "cell_type": "code",
   "execution_count": 202,
   "id": "9f26e6e3",
   "metadata": {},
   "outputs": [],
   "source": [
    "lst=[1,2,3,4,5,6,7,8,9]"
   ]
  },
  {
   "cell_type": "code",
   "execution_count": 203,
   "id": "be541b20",
   "metadata": {},
   "outputs": [
    {
     "data": {
      "text/plain": [
       "[1, 2, 3, 4, 5, 6, 7, 8, 9]"
      ]
     },
     "execution_count": 203,
     "metadata": {},
     "output_type": "execute_result"
    }
   ],
   "source": [
    "list(filter(None,lst))"
   ]
  },
  {
   "cell_type": "code",
   "execution_count": 204,
   "id": "48ed8736",
   "metadata": {},
   "outputs": [
    {
     "data": {
      "text/plain": [
       "[1, 2, 3, 4, 5, 6, 7, 8, 9]"
      ]
     },
     "execution_count": 204,
     "metadata": {},
     "output_type": "execute_result"
    }
   ],
   "source": [
    "list(filter(even,lst))"
   ]
  },
  {
   "cell_type": "code",
   "execution_count": 205,
   "id": "5da8a35f",
   "metadata": {},
   "outputs": [
    {
     "data": {
      "text/plain": [
       "[2, 4, 6, 8]"
      ]
     },
     "execution_count": 205,
     "metadata": {},
     "output_type": "execute_result"
    }
   ],
   "source": [
    "list(filter(lambda num:num%2==0,lst))"
   ]
  },
  {
   "cell_type": "code",
   "execution_count": 206,
   "id": "1875406c",
   "metadata": {},
   "outputs": [
    {
     "data": {
      "text/plain": [
       "[False, True, False, True, False, True, False, True, False]"
      ]
     },
     "execution_count": 206,
     "metadata": {},
     "output_type": "execute_result"
    }
   ],
   "source": [
    "list(map(lambda num:num%2==0,lst))"
   ]
  },
  {
   "cell_type": "code",
   "execution_count": null,
   "id": "ab3b7caf",
   "metadata": {},
   "outputs": [],
   "source": [
    "#above is the difference between map and filter\n",
    "#filter returns the number where map return whatt is given in return"
   ]
  },
  {
   "cell_type": "markdown",
   "id": "9d53f763",
   "metadata": {},
   "source": [
    "## list comprehension\n",
    "List comprehensions provide a concise way to create lists. It consists of brackets containing an expression followed by a for clause, then zero or more for or if clause. The expressions can be anything, meaning you can put in all kinds of objects in lists."
   ]
  },
  {
   "cell_type": "code",
   "execution_count": 211,
   "id": "0627e5b9",
   "metadata": {},
   "outputs": [
    {
     "data": {
      "text/plain": [
       "[1, 4, 9, 16, 25, 36, 49, 64, 81]"
      ]
     },
     "execution_count": 211,
     "metadata": {},
     "output_type": "execute_result"
    }
   ],
   "source": [
    "list1=[]\n",
    "def square(lst):\n",
    "    for i in lst:\n",
    "        list1.append(i*i)\n",
    "    return list1    \n",
    "\n",
    "lst1=[1,2,3,4,5,6,7,8,9]\n",
    "square(lst1)"
   ]
  },
  {
   "cell_type": "code",
   "execution_count": 212,
   "id": "e9a6740c",
   "metadata": {},
   "outputs": [],
   "source": [
    "#above problem is a simple list appending\n",
    "#but it has too much of lines\n",
    "# for this we can use list comprehension"
   ]
  },
  {
   "cell_type": "code",
   "execution_count": 213,
   "id": "a69907ea",
   "metadata": {},
   "outputs": [
    {
     "data": {
      "text/plain": [
       "[81, 64, 49, 36, 25, 16, 9, 4, 1]"
      ]
     },
     "execution_count": 213,
     "metadata": {},
     "output_type": "execute_result"
    }
   ],
   "source": [
    "lst2=[9,8,7,6,5,4,3,2,1]\n",
    "[i*i for i in lst2]"
   ]
  },
  {
   "cell_type": "code",
   "execution_count": 214,
   "id": "e26ab002",
   "metadata": {},
   "outputs": [
    {
     "data": {
      "text/plain": [
       "[64, 36, 16, 4]"
      ]
     },
     "execution_count": 214,
     "metadata": {},
     "output_type": "execute_result"
    }
   ],
   "source": [
    "#if i want only the square of even numbers\n",
    "\n",
    "[i*i for i in lst2 if i%2==0]"
   ]
  },
  {
   "cell_type": "markdown",
   "id": "c0d83956",
   "metadata": {},
   "source": [
    "## String formating in python"
   ]
  },
  {
   "cell_type": "code",
   "execution_count": 215,
   "id": "d7725827",
   "metadata": {},
   "outputs": [],
   "source": [
    "#we have finished format functions\n"
   ]
  },
  {
   "cell_type": "markdown",
   "id": "107b54f1",
   "metadata": {},
   "source": [
    "## Python list Iterables vs Iterators"
   ]
  },
  {
   "cell_type": "code",
   "execution_count": 216,
   "id": "7f3461b4",
   "metadata": {},
   "outputs": [
    {
     "name": "stdout",
     "output_type": "stream",
     "text": [
      "1\n",
      "2\n",
      "3\n",
      "4\n",
      "5\n"
     ]
    }
   ],
   "source": [
    "# eg of iterable\n",
    "\n",
    "lst=[1,2,3,4,5]\n",
    "for i in lst:\n",
    "    print(i)\n",
    "\n",
    "#here whole list is saved in memory"
   ]
  },
  {
   "cell_type": "code",
   "execution_count": 220,
   "id": "b5b57367",
   "metadata": {},
   "outputs": [
    {
     "name": "stdout",
     "output_type": "stream",
     "text": [
      "<list_iterator object at 0x0000019660F69F90>\n"
     ]
    }
   ],
   "source": [
    "#in terators the list is not saved in memory unit u give next()\n",
    "#when we use next() it return first value in list and stores the first value in memory\n",
    "#if i hit next() again it return second value and stores the second value in meory\n",
    "\n",
    "list1=iter(lst)\n",
    "print(list1)"
   ]
  },
  {
   "cell_type": "code",
   "execution_count": 222,
   "id": "dc7149a3",
   "metadata": {},
   "outputs": [
    {
     "data": {
      "text/plain": [
       "1"
      ]
     },
     "execution_count": 222,
     "metadata": {},
     "output_type": "execute_result"
    }
   ],
   "source": [
    "next(list1)"
   ]
  },
  {
   "cell_type": "code",
   "execution_count": 223,
   "id": "ad9b81b0",
   "metadata": {},
   "outputs": [
    {
     "data": {
      "text/plain": [
       "2"
      ]
     },
     "execution_count": 223,
     "metadata": {},
     "output_type": "execute_result"
    }
   ],
   "source": [
    "next(list1)"
   ]
  },
  {
   "cell_type": "markdown",
   "id": "be244b70",
   "metadata": {},
   "source": [
    "## oops Tutorial in Python"
   ]
  },
  {
   "cell_type": "markdown",
   "id": "8001d534",
   "metadata": {},
   "source": [
    "### class"
   ]
  },
  {
   "cell_type": "code",
   "execution_count": 225,
   "id": "e4240139",
   "metadata": {},
   "outputs": [],
   "source": [
    "#creating a class\n",
    "\n",
    "class car:\n",
    "    pass"
   ]
  },
  {
   "cell_type": "code",
   "execution_count": 227,
   "id": "afc5d4ba",
   "metadata": {},
   "outputs": [],
   "source": [
    "#creating a objects/instance \n",
    "\n",
    "car1=car()"
   ]
  },
  {
   "cell_type": "code",
   "execution_count": 231,
   "id": "c042627f",
   "metadata": {},
   "outputs": [
    {
     "name": "stdout",
     "output_type": "stream",
     "text": [
      "4\n"
     ]
    }
   ],
   "source": [
    "#with this object we can have any number of attributes\n",
    "\n",
    "car1.widows=4\n",
    "car1.door=4\n",
    "print(car1.door)"
   ]
  },
  {
   "cell_type": "code",
   "execution_count": 230,
   "id": "e76a64cd",
   "metadata": {},
   "outputs": [],
   "source": [
    "car2=car()\n",
    "car2.enginetype='good'"
   ]
  },
  {
   "cell_type": "code",
   "execution_count": 232,
   "id": "82618721",
   "metadata": {},
   "outputs": [],
   "source": [
    "#the above example is a bad example for creating a class\n",
    "#instead"
   ]
  },
  {
   "cell_type": "code",
   "execution_count": 3,
   "id": "80412ae5",
   "metadata": {},
   "outputs": [],
   "source": [
    "class bike:\n",
    "    def __init__(self,color,model,Abs):\n",
    "        self.color=color\n",
    "        self.model=model\n",
    "        self.Abs=Abs\n",
    "    def specification(self):\n",
    "        return 'color: {}, model: {}, Abs: {}'.format(self.color,self.model,self.Abs)\n",
    "        \n",
    "pulsar=bike('Black','ns200','yes')"
   ]
  },
  {
   "cell_type": "code",
   "execution_count": 4,
   "id": "dd0601eb",
   "metadata": {},
   "outputs": [
    {
     "name": "stdout",
     "output_type": "stream",
     "text": [
      "<class '__main__.bike'>\n"
     ]
    }
   ],
   "source": [
    "print(bike)"
   ]
  },
  {
   "cell_type": "code",
   "execution_count": 5,
   "id": "31f885f6",
   "metadata": {},
   "outputs": [
    {
     "data": {
      "text/plain": [
       "'color: Black, model: ns200, Abs: yes'"
      ]
     },
     "execution_count": 5,
     "metadata": {},
     "output_type": "execute_result"
    }
   ],
   "source": [
    "pulsar.specification()"
   ]
  },
  {
   "cell_type": "markdown",
   "id": "e944d448",
   "metadata": {},
   "source": [
    "## Exception handling"
   ]
  },
  {
   "cell_type": "code",
   "execution_count": 24,
   "id": "98965f74",
   "metadata": {
    "scrolled": true
   },
   "outputs": [
    {
     "name": "stdout",
     "output_type": "stream",
     "text": [
      "This is an NameError\n"
     ]
    }
   ],
   "source": [
    "try:\n",
    "    #code block where error can occur\n",
    "    a=b\n",
    "except NameError as ex1:\n",
    "    #if i got an error then this except block will execute\n",
    "    print('This is an NameError')\n",
    "except Exception as ex:\n",
    "    print(\"Iam getting an error\")\n",
    "    print(ex)"
   ]
  },
  {
   "cell_type": "code",
   "execution_count": 38,
   "id": "69433d0d",
   "metadata": {},
   "outputs": [
    {
     "name": "stdout",
     "output_type": "stream",
     "text": [
      "Enter the username: 11\n",
      "You have entered wrong user name\n",
      "What are you going to do\n"
     ]
    }
   ],
   "source": [
    "###try-else #just example dont see the code,\n",
    "try:\n",
    "    username=input('Enter the username: ')\n",
    "    if username=='admin':\n",
    "        print('Hey {}, you have logged'.format(username))\n",
    "    else:\n",
    "        print('You have entered wrong user name')\n",
    "except:\n",
    "    print('error has occured in backend')\n",
    "else:\n",
    "    print('What are you going to do')\n",
    "    \n",
    "#if except gets executed the else block will not execute"
   ]
  },
  {
   "cell_type": "code",
   "execution_count": 51,
   "id": "5b9b9012",
   "metadata": {},
   "outputs": [
    {
     "name": "stdout",
     "output_type": "stream",
     "text": [
      "Enter the username: admin\n",
      "Hey admin, you have logged\n",
      "What are you going to do\n",
      "execution has done\n"
     ]
    }
   ],
   "source": [
    "###try-else-finally\n",
    "try:\n",
    "    username=input('Enter the username: ')\n",
    "    if username=='admin':\n",
    "        print('Hey {}, you have logged'.format(username))\n",
    "    else:\n",
    "        print('You have entered wrong user name')\n",
    "except Exception as e:\n",
    "    print(e)\n",
    "else:\n",
    "    print('What are you going to do')\n",
    "finally:\n",
    "    print('execution has done')\n",
    "    \n",
    "#if except gets executed the else block will not execute\n",
    "#finally block will get execute whaterver happans"
   ]
  },
  {
   "cell_type": "markdown",
   "id": "78643124",
   "metadata": {},
   "source": [
    "## Custom Exception\n",
    "how can we create custom exception"
   ]
  },
  {
   "cell_type": "code",
   "execution_count": 55,
   "id": "c32f7882",
   "metadata": {},
   "outputs": [],
   "source": [
    "class Error(Exception):# this is a inheritance class\n",
    "    pass\n",
    "\n",
    "class userException(Error):\n",
    "    pass\n"
   ]
  },
  {
   "cell_type": "code",
   "execution_count": 56,
   "id": "e837164c",
   "metadata": {},
   "outputs": [
    {
     "name": "stdout",
     "output_type": "stream",
     "text": [
      "Enter your username: q\n",
      "You have entered wrong user name\n"
     ]
    }
   ],
   "source": [
    "username=str(input('Enter your username: '))\n",
    "try:\n",
    "    if username=='admin':\n",
    "        print('Hey {}, you have logged in'.format(username))\n",
    "    else:\n",
    "        raise userException\n",
    "except userException:\n",
    "    print('You have entered wrong user name')"
   ]
  },
  {
   "cell_type": "code",
   "execution_count": 58,
   "id": "23b606c6",
   "metadata": {},
   "outputs": [],
   "source": [
    "class userException(Exception):\n",
    "    pass"
   ]
  },
  {
   "cell_type": "code",
   "execution_count": 59,
   "id": "ed05bcee",
   "metadata": {},
   "outputs": [
    {
     "name": "stdout",
     "output_type": "stream",
     "text": [
      "Enter your username: q\n",
      "You have entered wrong user name\n"
     ]
    }
   ],
   "source": [
    "username=str(input('Enter your username: '))\n",
    "try:\n",
    "    if username=='admin':\n",
    "        print('Hey {}, you have logged in'.format(username))\n",
    "    else:\n",
    "        raise userException\n",
    "except userException:\n",
    "    print('You have entered wrong user name')"
   ]
  },
  {
   "cell_type": "markdown",
   "id": "4c35c21a",
   "metadata": {},
   "source": [
    "## Python oops- Inheritance"
   ]
  },
  {
   "cell_type": "code",
   "execution_count": 73,
   "id": "6e11d6eb",
   "metadata": {},
   "outputs": [],
   "source": [
    "#all the class variable are public\n",
    "class bike:\n",
    "    def __init__(self,color,model,Abs):\n",
    "        self.color=color\n",
    "        self.model=model\n",
    "        self.Abs=Abs\n",
    "    def specification(self):\n",
    "        return 'color: {}, model: {}, Abs: {}'.format(self.color,self.model,self.Abs)\n",
    "        \n",
    "pulsar=bike('Black','ns200','yes')"
   ]
  },
  {
   "cell_type": "code",
   "execution_count": 74,
   "id": "433c10d6",
   "metadata": {},
   "outputs": [
    {
     "data": {
      "text/plain": [
       "'ns200'"
      ]
     },
     "execution_count": 74,
     "metadata": {},
     "output_type": "execute_result"
    }
   ],
   "source": [
    "pulsar.model"
   ]
  },
  {
   "cell_type": "code",
   "execution_count": 75,
   "id": "83734ff1",
   "metadata": {},
   "outputs": [
    {
     "data": {
      "text/plain": [
       "['Abs',\n",
       " '__class__',\n",
       " '__delattr__',\n",
       " '__dict__',\n",
       " '__dir__',\n",
       " '__doc__',\n",
       " '__eq__',\n",
       " '__format__',\n",
       " '__ge__',\n",
       " '__getattribute__',\n",
       " '__gt__',\n",
       " '__hash__',\n",
       " '__init__',\n",
       " '__init_subclass__',\n",
       " '__le__',\n",
       " '__lt__',\n",
       " '__module__',\n",
       " '__ne__',\n",
       " '__new__',\n",
       " '__reduce__',\n",
       " '__reduce_ex__',\n",
       " '__repr__',\n",
       " '__setattr__',\n",
       " '__sizeof__',\n",
       " '__str__',\n",
       " '__subclasshook__',\n",
       " '__weakref__',\n",
       " 'color',\n",
       " 'model',\n",
       " 'specification']"
      ]
     },
     "execution_count": 75,
     "metadata": {},
     "output_type": "execute_result"
    }
   ],
   "source": [
    "dir(pulsar)"
   ]
  },
  {
   "cell_type": "code",
   "execution_count": 76,
   "id": "291b1724",
   "metadata": {},
   "outputs": [],
   "source": [
    "#creating a child class from parrent class\n",
    "\n",
    "class car(bike):\n",
    "    def __init__(self,color,model,Abs,bluetooth,ac):\n",
    "        super().__init__(color,model,Abs)   #this is calling parent initializing constructor #i.e we have used parent parameters\n",
    "        self.bluetooth=bluetooth\n",
    "        self.ac=ac\n",
    "    def driving(self):\n",
    "        print('color: {}, model: {}, Abs: {}, bluetooth: {}, ac: {}'.format(self.color,self.model,self.Abs,self.bluetooth,self.ac))"
   ]
  },
  {
   "cell_type": "code",
   "execution_count": 77,
   "id": "68291df7",
   "metadata": {},
   "outputs": [],
   "source": [
    "audi=car(\"Black\", '2000series', 'yes', 'yes', 'yes')"
   ]
  },
  {
   "cell_type": "code",
   "execution_count": 78,
   "id": "a5d7194d",
   "metadata": {},
   "outputs": [
    {
     "name": "stdout",
     "output_type": "stream",
     "text": [
      "color: Black, model: 2000series, Abs: yes, bluetooth: yes, ac: yes\n"
     ]
    }
   ],
   "source": [
    "audi.driving()"
   ]
  },
  {
   "cell_type": "code",
   "execution_count": 80,
   "id": "a8145f63",
   "metadata": {},
   "outputs": [
    {
     "data": {
      "text/plain": [
       "['Abs',\n",
       " '__class__',\n",
       " '__delattr__',\n",
       " '__dict__',\n",
       " '__dir__',\n",
       " '__doc__',\n",
       " '__eq__',\n",
       " '__format__',\n",
       " '__ge__',\n",
       " '__getattribute__',\n",
       " '__gt__',\n",
       " '__hash__',\n",
       " '__init__',\n",
       " '__init_subclass__',\n",
       " '__le__',\n",
       " '__lt__',\n",
       " '__module__',\n",
       " '__ne__',\n",
       " '__new__',\n",
       " '__reduce__',\n",
       " '__reduce_ex__',\n",
       " '__repr__',\n",
       " '__setattr__',\n",
       " '__sizeof__',\n",
       " '__str__',\n",
       " '__subclasshook__',\n",
       " '__weakref__',\n",
       " 'ac',\n",
       " 'bluetooth',\n",
       " 'color',\n",
       " 'driving',\n",
       " 'model',\n",
       " 'specification']"
      ]
     },
     "execution_count": 80,
     "metadata": {},
     "output_type": "execute_result"
    }
   ],
   "source": [
    "dir(audi)"
   ]
  },
  {
   "cell_type": "code",
   "execution_count": 87,
   "id": "e2e68583",
   "metadata": {},
   "outputs": [
    {
     "data": {
      "text/plain": [
       "'color: Black, model: 2000series, Abs: yes'"
      ]
     },
     "execution_count": 87,
     "metadata": {},
     "output_type": "execute_result"
    }
   ],
   "source": [
    "#from child object we can access parent class functions\n",
    "\n",
    "audi.specification()\n"
   ]
  },
  {
   "cell_type": "code",
   "execution_count": 89,
   "id": "801c1c26",
   "metadata": {},
   "outputs": [
    {
     "ename": "AttributeError",
     "evalue": "'bike' object has no attribute 'driving'",
     "output_type": "error",
     "traceback": [
      "\u001b[1;31m---------------------------------------------------------------------------\u001b[0m",
      "\u001b[1;31mAttributeError\u001b[0m                            Traceback (most recent call last)",
      "Input \u001b[1;32mIn [89]\u001b[0m, in \u001b[0;36m<cell line: 3>\u001b[1;34m()\u001b[0m\n\u001b[0;32m      1\u001b[0m \u001b[38;5;66;03m#from parent object we cannot access childs class functions\u001b[39;00m\n\u001b[1;32m----> 3\u001b[0m \u001b[43mpulsar\u001b[49m\u001b[38;5;241;43m.\u001b[39;49m\u001b[43mdriving\u001b[49m()\n",
      "\u001b[1;31mAttributeError\u001b[0m: 'bike' object has no attribute 'driving'"
     ]
    }
   ],
   "source": [
    "#from parent object we cannot access childs class functions\n",
    "\n",
    "pulsar.driving()"
   ]
  },
  {
   "cell_type": "markdown",
   "id": "bb17cd97",
   "metadata": {},
   "source": [
    "## Python oops- Magic Methods in classes"
   ]
  },
  {
   "cell_type": "code",
   "execution_count": 92,
   "id": "7e0d21d0",
   "metadata": {},
   "outputs": [],
   "source": [
    "#all the class variable are public\n",
    "class bike:\n",
    "    def __init__(self,color,model,Abs):\n",
    "        self.color=color\n",
    "        self.model=model\n",
    "        self.Abs=Abs\n",
    "    def specification(self):\n",
    "        return 'color: {}, model: {}, Abs: {}'.format(self.color,self.model,self.Abs)"
   ]
  },
  {
   "cell_type": "code",
   "execution_count": 95,
   "id": "eff083b4",
   "metadata": {},
   "outputs": [],
   "source": [
    "discover=bike('Black','100T','yes')"
   ]
  },
  {
   "cell_type": "code",
   "execution_count": 96,
   "id": "abb4fae3",
   "metadata": {},
   "outputs": [
    {
     "data": {
      "text/plain": [
       "'color: Black, model: 100T, Abs: yes'"
      ]
     },
     "execution_count": 96,
     "metadata": {},
     "output_type": "execute_result"
    }
   ],
   "source": [
    "discover.specification()"
   ]
  },
  {
   "cell_type": "code",
   "execution_count": 97,
   "id": "263bdf3f",
   "metadata": {},
   "outputs": [
    {
     "data": {
      "text/plain": [
       "<__main__.bike at 0x1d23ad2e050>"
      ]
     },
     "execution_count": 97,
     "metadata": {},
     "output_type": "execute_result"
    }
   ],
   "source": [
    "discover"
   ]
  },
  {
   "cell_type": "code",
   "execution_count": 98,
   "id": "e5fc2424",
   "metadata": {},
   "outputs": [
    {
     "data": {
      "text/plain": [
       "['Abs',\n",
       " '__class__',\n",
       " '__delattr__',\n",
       " '__dict__',\n",
       " '__dir__',\n",
       " '__doc__',\n",
       " '__eq__',\n",
       " '__format__',\n",
       " '__ge__',\n",
       " '__getattribute__',\n",
       " '__gt__',\n",
       " '__hash__',\n",
       " '__init__',\n",
       " '__init_subclass__',\n",
       " '__le__',\n",
       " '__lt__',\n",
       " '__module__',\n",
       " '__ne__',\n",
       " '__new__',\n",
       " '__reduce__',\n",
       " '__reduce_ex__',\n",
       " '__repr__',\n",
       " '__setattr__',\n",
       " '__sizeof__',\n",
       " '__str__',\n",
       " '__subclasshook__',\n",
       " '__weakref__',\n",
       " 'color',\n",
       " 'model',\n",
       " 'specification']"
      ]
     },
     "execution_count": 98,
     "metadata": {},
     "output_type": "execute_result"
    }
   ],
   "source": [
    "dir(discover)"
   ]
  },
  {
   "cell_type": "code",
   "execution_count": null,
   "id": "f6a1d9ea",
   "metadata": {},
   "outputs": [],
   "source": [
    "### we can use all the meathods above like"
   ]
  },
  {
   "cell_type": "code",
   "execution_count": 113,
   "id": "6b28a9e0",
   "metadata": {},
   "outputs": [],
   "source": [
    "#all the class variable are public\n",
    "class bike:\n",
    "    def __init__(self,color,model,Abs):\n",
    "        self.color=color\n",
    "        self.model=model\n",
    "        self.Abs=Abs\n",
    "    def __str__(self):\n",
    "        return \"the object has been over ridden\"\n",
    "    def specification(self):\n",
    "        return 'color: {}, model: {}, Abs: {}'.format(self.color,self.model,self.Abs)"
   ]
  },
  {
   "cell_type": "code",
   "execution_count": 114,
   "id": "febf346a",
   "metadata": {},
   "outputs": [],
   "source": [
    "yamaha=bike('Black','R15','yes')"
   ]
  },
  {
   "cell_type": "code",
   "execution_count": 115,
   "id": "ad0782a1",
   "metadata": {},
   "outputs": [
    {
     "name": "stdout",
     "output_type": "stream",
     "text": [
      "the object has been over ridden\n"
     ]
    }
   ],
   "source": [
    "print(yamaha)"
   ]
  },
  {
   "cell_type": "code",
   "execution_count": 116,
   "id": "f10ed647",
   "metadata": {},
   "outputs": [
    {
     "data": {
      "text/plain": [
       "32"
      ]
     },
     "execution_count": 116,
     "metadata": {},
     "output_type": "execute_result"
    }
   ],
   "source": [
    "yamaha.__sizeof__()"
   ]
  },
  {
   "cell_type": "code",
   "execution_count": 117,
   "id": "f613221b",
   "metadata": {},
   "outputs": [
    {
     "data": {
      "text/plain": [
       "'the object has been over ridden'"
      ]
     },
     "execution_count": 117,
     "metadata": {},
     "output_type": "execute_result"
    }
   ],
   "source": [
    "yamaha.__str__()"
   ]
  },
  {
   "cell_type": "markdown",
   "id": "ec26f3f5",
   "metadata": {},
   "source": [
    "## Python Assert\n",
    "python provides the assert statement to check if a given logical expression is true or false. Program execution proceeds only if the expression is true and raises the AssertionError when it is false. The following code shows the usage of the assert statement"
   ]
  },
  {
   "cell_type": "code",
   "execution_count": 118,
   "id": "dc60c9cc",
   "metadata": {},
   "outputs": [
    {
     "data": {
      "text/plain": [
       "True"
      ]
     },
     "execution_count": 118,
     "metadata": {},
     "output_type": "execute_result"
    }
   ],
   "source": [
    "10==10"
   ]
  },
  {
   "cell_type": "code",
   "execution_count": 119,
   "id": "26e96170",
   "metadata": {},
   "outputs": [],
   "source": [
    "num=10\n",
    "assert num>1"
   ]
  },
  {
   "cell_type": "code",
   "execution_count": 120,
   "id": "575f6fea",
   "metadata": {},
   "outputs": [
    {
     "ename": "AssertionError",
     "evalue": "",
     "output_type": "error",
     "traceback": [
      "\u001b[1;31m---------------------------------------------------------------------------\u001b[0m",
      "\u001b[1;31mAssertionError\u001b[0m                            Traceback (most recent call last)",
      "Input \u001b[1;32mIn [120]\u001b[0m, in \u001b[0;36m<cell line: 1>\u001b[1;34m()\u001b[0m\n\u001b[1;32m----> 1\u001b[0m \u001b[38;5;28;01massert\u001b[39;00m num\u001b[38;5;241m<\u001b[39m\u001b[38;5;241m1\u001b[39m\n",
      "\u001b[1;31mAssertionError\u001b[0m: "
     ]
    }
   ],
   "source": [
    "assert num<1"
   ]
  },
  {
   "cell_type": "code",
   "execution_count": 124,
   "id": "c1b7931f",
   "metadata": {},
   "outputs": [
    {
     "name": "stdout",
     "output_type": "stream",
     "text": [
      "Enter the password12345\n",
      "The password is crt\n",
      "Execution completed\n"
     ]
    }
   ],
   "source": [
    "try:\n",
    "    password=int(input('Enter the password'))\n",
    "    assert password==12345\n",
    "    print('The password is crt')\n",
    "except AssertionError as e:\n",
    "    print('you have entered the password wrong')\n",
    "print('Execution completed')"
   ]
  },
  {
   "cell_type": "code",
   "execution_count": 125,
   "id": "ec38f17d",
   "metadata": {},
   "outputs": [
    {
     "name": "stdout",
     "output_type": "stream",
     "text": [
      "Enter the password123\n",
      "you have entered the password wrong\n",
      "Execution completed\n"
     ]
    }
   ],
   "source": [
    "try:\n",
    "    password=int(input('Enter the password'))\n",
    "    assert password==12345\n",
    "    print('The password is crt')\n",
    "except AssertionError as e:\n",
    "    print('you have entered the password wrong')\n",
    "print('Execution completed')"
   ]
  },
  {
   "cell_type": "code",
   "execution_count": null,
   "id": "ec8d98f0",
   "metadata": {},
   "outputs": [],
   "source": []
  }
 ],
 "metadata": {
  "kernelspec": {
   "display_name": "Python 3 (ipykernel)",
   "language": "python",
   "name": "python3"
  },
  "language_info": {
   "codemirror_mode": {
    "name": "ipython",
    "version": 3
   },
   "file_extension": ".py",
   "mimetype": "text/x-python",
   "name": "python",
   "nbconvert_exporter": "python",
   "pygments_lexer": "ipython3",
   "version": "3.10.4"
  }
 },
 "nbformat": 4,
 "nbformat_minor": 5
}
